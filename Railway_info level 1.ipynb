{
 "cells": [
  {
   "cell_type": "markdown",
   "id": "165511d1-048f-4680-9abb-aeef535f95c9",
   "metadata": {},
   "source": [
    "## Level 1"
   ]
  },
  {
   "cell_type": "code",
   "execution_count": 181,
   "id": "46268950-6bc2-4fad-b691-539205226f90",
   "metadata": {},
   "outputs": [],
   "source": [
    "import numpy as np \n",
    "import pandas as pd "
   ]
  },
  {
   "cell_type": "markdown",
   "id": "84b36e27-6066-4d7c-a0d2-0f1da0492729",
   "metadata": {},
   "source": [
    "### Task 1.1 Load and Inspect Data "
   ]
  },
  {
   "cell_type": "code",
   "execution_count": 183,
   "id": "bfdfff8c",
   "metadata": {},
   "outputs": [],
   "source": [
    "df = pd.read_csv('Railway_info 1.csv')"
   ]
  },
  {
   "cell_type": "code",
   "execution_count": 184,
   "id": "4a6d8bcc-139c-4887-b3af-9a5886d82007",
   "metadata": {},
   "outputs": [
    {
     "data": {
      "text/html": [
       "<div>\n",
       "<style scoped>\n",
       "    .dataframe tbody tr th:only-of-type {\n",
       "        vertical-align: middle;\n",
       "    }\n",
       "\n",
       "    .dataframe tbody tr th {\n",
       "        vertical-align: top;\n",
       "    }\n",
       "\n",
       "    .dataframe thead th {\n",
       "        text-align: right;\n",
       "    }\n",
       "</style>\n",
       "<table border=\"1\" class=\"dataframe\">\n",
       "  <thead>\n",
       "    <tr style=\"text-align: right;\">\n",
       "      <th></th>\n",
       "      <th>Train_No</th>\n",
       "      <th>Train_Name</th>\n",
       "      <th>Source_Station_Name</th>\n",
       "      <th>Destination_Station_Name</th>\n",
       "      <th>days</th>\n",
       "    </tr>\n",
       "  </thead>\n",
       "  <tbody>\n",
       "    <tr>\n",
       "      <th>0</th>\n",
       "      <td>107</td>\n",
       "      <td>SWV-MAO-VLNK</td>\n",
       "      <td>SAWANTWADI ROAD</td>\n",
       "      <td>MADGOAN JN.</td>\n",
       "      <td>Saturday</td>\n",
       "    </tr>\n",
       "    <tr>\n",
       "      <th>1</th>\n",
       "      <td>108</td>\n",
       "      <td>VLNK-MAO-SWV</td>\n",
       "      <td>MADGOAN JN.</td>\n",
       "      <td>SAWANTWADI ROAD</td>\n",
       "      <td>Friday</td>\n",
       "    </tr>\n",
       "    <tr>\n",
       "      <th>2</th>\n",
       "      <td>128</td>\n",
       "      <td>MAO-KOP SPEC</td>\n",
       "      <td>MADGOAN JN.</td>\n",
       "      <td>CHHATRAPATI SHAHU MAHARAJ TERMINUS</td>\n",
       "      <td>Friday</td>\n",
       "    </tr>\n",
       "    <tr>\n",
       "      <th>3</th>\n",
       "      <td>290</td>\n",
       "      <td>PALACE ON WH</td>\n",
       "      <td>DELHI-SAFDAR JANG</td>\n",
       "      <td>DELHI-SAFDAR JANG</td>\n",
       "      <td>Wednesday</td>\n",
       "    </tr>\n",
       "    <tr>\n",
       "      <th>4</th>\n",
       "      <td>401</td>\n",
       "      <td>BSB BHARATDA</td>\n",
       "      <td>AURANGABAD</td>\n",
       "      <td>VARANASI JN.</td>\n",
       "      <td>Saturday</td>\n",
       "    </tr>\n",
       "    <tr>\n",
       "      <th>5</th>\n",
       "      <td>421</td>\n",
       "      <td>LKO-SVDK FTR</td>\n",
       "      <td>LUCKNOW JN.</td>\n",
       "      <td>SHRI MATA VAISHNO DEVI KATRA</td>\n",
       "      <td>Tuesday</td>\n",
       "    </tr>\n",
       "    <tr>\n",
       "      <th>6</th>\n",
       "      <td>422</td>\n",
       "      <td>SVDK-LKO FTR</td>\n",
       "      <td>SHRI MATA VAISHNO DEVI KATRA</td>\n",
       "      <td>LUCKNOW JN.</td>\n",
       "      <td>Monday</td>\n",
       "    </tr>\n",
       "    <tr>\n",
       "      <th>7</th>\n",
       "      <td>477</td>\n",
       "      <td>FTR TRAIN NO</td>\n",
       "      <td>SIRSA</td>\n",
       "      <td>SIRSA</td>\n",
       "      <td>Sunday</td>\n",
       "    </tr>\n",
       "    <tr>\n",
       "      <th>8</th>\n",
       "      <td>502</td>\n",
       "      <td>RJPB-UMB FTR</td>\n",
       "      <td>RAJENDRANAGAR TERMINAL</td>\n",
       "      <td>AMBALA CANTT JN</td>\n",
       "      <td>Monday</td>\n",
       "    </tr>\n",
       "    <tr>\n",
       "      <th>9</th>\n",
       "      <td>504</td>\n",
       "      <td>PNBE-BTI FTR</td>\n",
       "      <td>PATNA JN.</td>\n",
       "      <td>BATHINDA JN</td>\n",
       "      <td>Wednesday</td>\n",
       "    </tr>\n",
       "  </tbody>\n",
       "</table>\n",
       "</div>"
      ],
      "text/plain": [
       "   Train_No    Train_Name           Source_Station_Name  \\\n",
       "0       107  SWV-MAO-VLNK               SAWANTWADI ROAD   \n",
       "1       108  VLNK-MAO-SWV                   MADGOAN JN.   \n",
       "2       128  MAO-KOP SPEC                   MADGOAN JN.   \n",
       "3       290  PALACE ON WH             DELHI-SAFDAR JANG   \n",
       "4       401  BSB BHARATDA                    AURANGABAD   \n",
       "5       421  LKO-SVDK FTR                   LUCKNOW JN.   \n",
       "6       422  SVDK-LKO FTR  SHRI MATA VAISHNO DEVI KATRA   \n",
       "7       477  FTR TRAIN NO                         SIRSA   \n",
       "8       502  RJPB-UMB FTR        RAJENDRANAGAR TERMINAL   \n",
       "9       504  PNBE-BTI FTR                     PATNA JN.   \n",
       "\n",
       "             Destination_Station_Name       days  \n",
       "0                         MADGOAN JN.   Saturday  \n",
       "1                     SAWANTWADI ROAD     Friday  \n",
       "2  CHHATRAPATI SHAHU MAHARAJ TERMINUS     Friday  \n",
       "3                   DELHI-SAFDAR JANG  Wednesday  \n",
       "4                        VARANASI JN.   Saturday  \n",
       "5        SHRI MATA VAISHNO DEVI KATRA    Tuesday  \n",
       "6                         LUCKNOW JN.     Monday  \n",
       "7                               SIRSA     Sunday  \n",
       "8                     AMBALA CANTT JN     Monday  \n",
       "9                         BATHINDA JN  Wednesday  "
      ]
     },
     "execution_count": 184,
     "metadata": {},
     "output_type": "execute_result"
    }
   ],
   "source": [
    "df.head(10)"
   ]
  },
  {
   "cell_type": "code",
   "execution_count": 185,
   "id": "8c8c7a25-c914-488c-9bda-1995d94657af",
   "metadata": {},
   "outputs": [
    {
     "data": {
      "text/html": [
       "<div>\n",
       "<style scoped>\n",
       "    .dataframe tbody tr th:only-of-type {\n",
       "        vertical-align: middle;\n",
       "    }\n",
       "\n",
       "    .dataframe tbody tr th {\n",
       "        vertical-align: top;\n",
       "    }\n",
       "\n",
       "    .dataframe thead th {\n",
       "        text-align: right;\n",
       "    }\n",
       "</style>\n",
       "<table border=\"1\" class=\"dataframe\">\n",
       "  <thead>\n",
       "    <tr style=\"text-align: right;\">\n",
       "      <th></th>\n",
       "      <th>Train_No</th>\n",
       "      <th>Train_Name</th>\n",
       "      <th>Source_Station_Name</th>\n",
       "      <th>Destination_Station_Name</th>\n",
       "      <th>days</th>\n",
       "    </tr>\n",
       "  </thead>\n",
       "  <tbody>\n",
       "    <tr>\n",
       "      <th>11103</th>\n",
       "      <td>99835</td>\n",
       "      <td>LNL-PUNE EMU</td>\n",
       "      <td>LONAVLA</td>\n",
       "      <td>PUNE JN.</td>\n",
       "      <td>Tuesday</td>\n",
       "    </tr>\n",
       "    <tr>\n",
       "      <th>11104</th>\n",
       "      <td>99836</td>\n",
       "      <td>PUNE-TGN EMU</td>\n",
       "      <td>PUNE JN.</td>\n",
       "      <td>LONAVLA</td>\n",
       "      <td>Saturday</td>\n",
       "    </tr>\n",
       "    <tr>\n",
       "      <th>11105</th>\n",
       "      <td>99901</td>\n",
       "      <td>TGN-PUNE EMU</td>\n",
       "      <td>TALEGAON</td>\n",
       "      <td>PUNE JN.</td>\n",
       "      <td>Tuesday</td>\n",
       "    </tr>\n",
       "    <tr>\n",
       "      <th>11106</th>\n",
       "      <td>99902</td>\n",
       "      <td>PUNE-TGN EMU</td>\n",
       "      <td>PUNE JN.</td>\n",
       "      <td>TALEGAON</td>\n",
       "      <td>Sunday</td>\n",
       "    </tr>\n",
       "    <tr>\n",
       "      <th>11107</th>\n",
       "      <td>99903</td>\n",
       "      <td>TGN-PUNE EMU</td>\n",
       "      <td>TALEGAON</td>\n",
       "      <td>PUNE JN.</td>\n",
       "      <td>Wednesday</td>\n",
       "    </tr>\n",
       "    <tr>\n",
       "      <th>11108</th>\n",
       "      <td>99904</td>\n",
       "      <td>PUNE-TGN EMU</td>\n",
       "      <td>PUNE JN.</td>\n",
       "      <td>TALEGAON</td>\n",
       "      <td>Tuesday</td>\n",
       "    </tr>\n",
       "    <tr>\n",
       "      <th>11109</th>\n",
       "      <td>99905</td>\n",
       "      <td>EMU</td>\n",
       "      <td>TALEGAON</td>\n",
       "      <td>SHIVAJINAGAR</td>\n",
       "      <td>Monday</td>\n",
       "    </tr>\n",
       "    <tr>\n",
       "      <th>11110</th>\n",
       "      <td>99906</td>\n",
       "      <td>EMU</td>\n",
       "      <td>PUNE JN.</td>\n",
       "      <td>TALEGAON</td>\n",
       "      <td>Wednesday</td>\n",
       "    </tr>\n",
       "    <tr>\n",
       "      <th>11111</th>\n",
       "      <td>99907</td>\n",
       "      <td>EMU</td>\n",
       "      <td>TALEGAON</td>\n",
       "      <td>PUNE JN.</td>\n",
       "      <td>Thursday</td>\n",
       "    </tr>\n",
       "    <tr>\n",
       "      <th>11112</th>\n",
       "      <td>99908</td>\n",
       "      <td>EMU</td>\n",
       "      <td>PUNE JN.</td>\n",
       "      <td>TALEGAON</td>\n",
       "      <td>Sunday</td>\n",
       "    </tr>\n",
       "  </tbody>\n",
       "</table>\n",
       "</div>"
      ],
      "text/plain": [
       "       Train_No    Train_Name Source_Station_Name Destination_Station_Name  \\\n",
       "11103     99835  LNL-PUNE EMU             LONAVLA                 PUNE JN.   \n",
       "11104     99836  PUNE-TGN EMU            PUNE JN.                  LONAVLA   \n",
       "11105     99901  TGN-PUNE EMU            TALEGAON                 PUNE JN.   \n",
       "11106     99902  PUNE-TGN EMU            PUNE JN.                 TALEGAON   \n",
       "11107     99903  TGN-PUNE EMU            TALEGAON                 PUNE JN.   \n",
       "11108     99904  PUNE-TGN EMU            PUNE JN.                 TALEGAON   \n",
       "11109     99905           EMU            TALEGAON             SHIVAJINAGAR   \n",
       "11110     99906           EMU            PUNE JN.                 TALEGAON   \n",
       "11111     99907           EMU            TALEGAON                 PUNE JN.   \n",
       "11112     99908           EMU            PUNE JN.                 TALEGAON   \n",
       "\n",
       "            days  \n",
       "11103    Tuesday  \n",
       "11104   Saturday  \n",
       "11105    Tuesday  \n",
       "11106     Sunday  \n",
       "11107  Wednesday  \n",
       "11108    Tuesday  \n",
       "11109     Monday  \n",
       "11110  Wednesday  \n",
       "11111   Thursday  \n",
       "11112     Sunday  "
      ]
     },
     "execution_count": 185,
     "metadata": {},
     "output_type": "execute_result"
    }
   ],
   "source": [
    "df.tail(10)"
   ]
  },
  {
   "cell_type": "code",
   "execution_count": 186,
   "id": "29d06da8-d3f8-4494-af3f-8796f93dfd7a",
   "metadata": {},
   "outputs": [
    {
     "data": {
      "text/html": [
       "<div>\n",
       "<style scoped>\n",
       "    .dataframe tbody tr th:only-of-type {\n",
       "        vertical-align: middle;\n",
       "    }\n",
       "\n",
       "    .dataframe tbody tr th {\n",
       "        vertical-align: top;\n",
       "    }\n",
       "\n",
       "    .dataframe thead th {\n",
       "        text-align: right;\n",
       "    }\n",
       "</style>\n",
       "<table border=\"1\" class=\"dataframe\">\n",
       "  <thead>\n",
       "    <tr style=\"text-align: right;\">\n",
       "      <th></th>\n",
       "      <th>Train_No</th>\n",
       "      <th>Train_Name</th>\n",
       "      <th>Source_Station_Name</th>\n",
       "      <th>Destination_Station_Name</th>\n",
       "      <th>days</th>\n",
       "    </tr>\n",
       "  </thead>\n",
       "  <tbody>\n",
       "    <tr>\n",
       "      <th>3659</th>\n",
       "      <td>34147</td>\n",
       "      <td>BGB - SDAH L</td>\n",
       "      <td>BUDGE BUDGE</td>\n",
       "      <td>SEALDAH</td>\n",
       "      <td>Tuesday</td>\n",
       "    </tr>\n",
       "    <tr>\n",
       "      <th>5345</th>\n",
       "      <td>43438</td>\n",
       "      <td>MMC-AJJ EMU</td>\n",
       "      <td>ARAKKONAM JN</td>\n",
       "      <td>MOOR MARKET</td>\n",
       "      <td>Saturdayd</td>\n",
       "    </tr>\n",
       "    <tr>\n",
       "      <th>6529</th>\n",
       "      <td>55073</td>\n",
       "      <td>NKE-GKP PASS</td>\n",
       "      <td>NARKATIAGANJ JN.</td>\n",
       "      <td>GORAKHPUR JN.</td>\n",
       "      <td>Tuesday</td>\n",
       "    </tr>\n",
       "    <tr>\n",
       "      <th>3119</th>\n",
       "      <td>31221</td>\n",
       "      <td>SDAH - BP LO</td>\n",
       "      <td>SEALDAH</td>\n",
       "      <td>BARRACKPORE</td>\n",
       "      <td>Wednesday</td>\n",
       "    </tr>\n",
       "    <tr>\n",
       "      <th>1549</th>\n",
       "      <td>14055</td>\n",
       "      <td>BRAHMAPUTRA</td>\n",
       "      <td>DIBRUGARH</td>\n",
       "      <td>DELHI JN.</td>\n",
       "      <td>Tuesday</td>\n",
       "    </tr>\n",
       "  </tbody>\n",
       "</table>\n",
       "</div>"
      ],
      "text/plain": [
       "      Train_No    Train_Name Source_Station_Name Destination_Station_Name  \\\n",
       "3659     34147  BGB - SDAH L         BUDGE BUDGE                  SEALDAH   \n",
       "5345     43438   MMC-AJJ EMU        ARAKKONAM JN              MOOR MARKET   \n",
       "6529     55073  NKE-GKP PASS    NARKATIAGANJ JN.            GORAKHPUR JN.   \n",
       "3119     31221  SDAH - BP LO             SEALDAH              BARRACKPORE   \n",
       "1549     14055   BRAHMAPUTRA           DIBRUGARH                DELHI JN.   \n",
       "\n",
       "           days  \n",
       "3659    Tuesday  \n",
       "5345  Saturdayd  \n",
       "6529    Tuesday  \n",
       "3119  Wednesday  \n",
       "1549    Tuesday  "
      ]
     },
     "execution_count": 186,
     "metadata": {},
     "output_type": "execute_result"
    }
   ],
   "source": [
    "df.sample(5)"
   ]
  },
  {
   "cell_type": "code",
   "execution_count": 187,
   "id": "00706ec7",
   "metadata": {},
   "outputs": [
    {
     "data": {
      "text/plain": [
       "(11113, 5)"
      ]
     },
     "execution_count": 187,
     "metadata": {},
     "output_type": "execute_result"
    }
   ],
   "source": [
    "df.shape"
   ]
  },
  {
   "cell_type": "code",
   "execution_count": 188,
   "id": "6347fa2c",
   "metadata": {},
   "outputs": [
    {
     "name": "stdout",
     "output_type": "stream",
     "text": [
      "<class 'pandas.core.frame.DataFrame'>\n",
      "RangeIndex: 11113 entries, 0 to 11112\n",
      "Data columns (total 5 columns):\n",
      " #   Column                    Non-Null Count  Dtype \n",
      "---  ------                    --------------  ----- \n",
      " 0   Train_No                  11113 non-null  int64 \n",
      " 1   Train_Name                11113 non-null  object\n",
      " 2   Source_Station_Name       11113 non-null  object\n",
      " 3   Destination_Station_Name  11113 non-null  object\n",
      " 4   days                      11113 non-null  object\n",
      "dtypes: int64(1), object(4)\n",
      "memory usage: 434.2+ KB\n"
     ]
    }
   ],
   "source": [
    "df.info()"
   ]
  },
  {
   "cell_type": "markdown",
   "id": "278342df-e695-49f6-bde2-e53a8c960cf7",
   "metadata": {},
   "source": [
    "### Task 1.2 Basic statistics"
   ]
  },
  {
   "cell_type": "code",
   "execution_count": 190,
   "id": "36df135b-f910-46ea-bc6d-ceab1aed4f77",
   "metadata": {},
   "outputs": [
    {
     "data": {
      "text/plain": [
       "array(['SWV-MAO-VLNK', 'VLNK-MAO-SWV', 'MAO-KOP SPEC', ...,\n",
       "       'PUNE-TGN EMU', 'TGN-PUNE EMU', 'EMU'], dtype=object)"
      ]
     },
     "execution_count": 190,
     "metadata": {},
     "output_type": "execute_result"
    }
   ],
   "source": [
    "df['Train_Name'].unique()"
   ]
  },
  {
   "cell_type": "code",
   "execution_count": 191,
   "id": "5dc85c0d-1e79-4f95-9c7e-42c0b0ad4bc0",
   "metadata": {},
   "outputs": [
    {
     "data": {
      "text/plain": [
       "7580"
      ]
     },
     "execution_count": 191,
     "metadata": {},
     "output_type": "execute_result"
    }
   ],
   "source": [
    "df['Train_Name'].nunique()"
   ]
  },
  {
   "cell_type": "code",
   "execution_count": 192,
   "id": "555b85f4-526d-458c-a3ce-5fec8470ecf6",
   "metadata": {},
   "outputs": [
    {
     "data": {
      "text/plain": [
       "Train_Name\n",
       "TBM-MSB EMU     139\n",
       "MSB-TBM EMU     137\n",
       "PASS             74\n",
       "VLCY-MSBEMUL     70\n",
       "CGL-MSB EMU      65\n",
       "               ... \n",
       "MYS - HWH SF      1\n",
       "HWH-MYS SF E      1\n",
       "ERS - BSP SF      1\n",
       "BSP - ERS SF      1\n",
       "RE-MTC PASSE      1\n",
       "Name: count, Length: 7580, dtype: int64"
      ]
     },
     "execution_count": 192,
     "metadata": {},
     "output_type": "execute_result"
    }
   ],
   "source": [
    "df['Train_Name'].value_counts()"
   ]
  },
  {
   "cell_type": "code",
   "execution_count": 193,
   "id": "6cd39b3d-79d6-46d1-ae33-68f10938d05b",
   "metadata": {},
   "outputs": [
    {
     "data": {
      "text/plain": [
       "array(['SAWANTWADI ROAD', 'MADGOAN JN.', 'DELHI-SAFDAR JANG',\n",
       "       'AURANGABAD', 'LUCKNOW JN.', 'SHRI MATA VAISHNO DEVI KATRA',\n",
       "       'SIRSA', 'RAJENDRANAGAR TERMINAL', 'PATNA JN.', 'URKURA',\n",
       "       'NEW DELHI', 'CST-MUMBAI', 'LOKMANYA TILAK TERMINUS', 'AJNI',\n",
       "       'KARMALI', 'NAGPUR JN.(CR)', 'PUNE JN.', 'MANGALORE JN',\n",
       "       'JABALPUR', 'BANDRA TERMINUS', 'ATARI JN', 'SANTRAGACHI JN.',\n",
       "       'REWA', 'BHOPAL', 'TRIVANDRUM CENTRAL', 'PALANI', 'POLLACHI',\n",
       "       'HYDERABAD DECCAN', 'JAIPUR JN.', 'RAJKOT', 'CHENNAI CENTRAL',\n",
       "       'HATIA', 'KOLKATA', 'PURI', 'ASANSOL MAIN', 'DHANBAD JN.',\n",
       "       'KUSUNDA', 'SONARDIH', 'PHULWARTANR', 'JASIDIH JN.',\n",
       "       'ANAND VIHAR TERMINAL', 'DELHI JN.', 'HAZRAT NIZAMUDDIN JN',\n",
       "       'BIKANER JN.', 'HARIDWAR JN', 'HANUMANGARH JN.', 'SHRI GANGANAGAR',\n",
       "       'SADULPUR JN', 'SURATGARH JN.', 'PARVATSAR CITY', 'MAKRANA JN.',\n",
       "       'JODHPUR JN.', 'MERTA ROAD JN.', 'RATANAGARH JN', 'CHURU',\n",
       "       'SAHARANPUR JN.', 'AMBALA CANTT JN', 'PATHANKOT JN.', 'JAMMU TAWI',\n",
       "       'GORAKHPUR JN.', 'BARHNI', 'CHHAPRA JN.', 'BASTI',\n",
       "       'KANPUR ANWARGANJ', 'FARRUKHABAD JN', 'BAREILLY CITY',\n",
       "       'LALKUA JN.', 'JAMALPUR JN.', 'SAHARSA JN.', 'JHALAWAR CITY',\n",
       "       'KOTA', 'NORTH LAKHIMPUR', 'MURKEONG SELEK', 'GUWAHATI', 'SILCHAR',\n",
       "       'NEW JALPAIGURI JN', 'KISHANGANJ', 'KATIHAR JN.', 'SILIGURI JN.',\n",
       "       'RANGIYA JN.', 'RANGAPARA NORTH', 'CHENNAI EGMORE',\n",
       "       'TIRUNELVELI JN', 'ERNAKULAM. JN', 'PONDICHERRY', 'QUILON',\n",
       "       'KOCHUVELI', 'CHENGALPATTU', 'MADURAI JN', 'COIMBATORE  JN.',\n",
       "       'MARIKUPPAM', 'BANGARPET JN.', 'YESVANTPUR JN.', 'PANDHARPUR',\n",
       "       'VISAKHAPATNAM', 'BELGAUM', 'HOSUR', 'WHITE FIELD',\n",
       "       'BAIYYAPPANAHALLI', 'DEVANHALLI', 'KORBA', 'BILASPUR JN.',\n",
       "       'PALGHAT TOWN', 'KARAIKAL', 'NAGORE', 'HUBLI JN.', 'BIJAPUR JN',\n",
       "       'RAXAUL JN.', 'SECUNDERABAD JN.', 'DARBHANGA JN.', 'KACHEGUDA',\n",
       "       'TIRUPATI', 'KAKINADA PORT', 'VIJAYWADA JN.', 'KAKINADA TOWN',\n",
       "       'KARIM NAGAR', 'NARASAPUR', 'NAGARSOL', 'TATANAGAR JN', 'ADILABAD',\n",
       "       'BIDAR', 'NEW BONGAIGAON  JN.', 'KRISHNA RAJA PURAM', 'NANDED',\n",
       "       'NIZAMABAD', 'RENIGUNTA JN.', 'KHARAGPUR', 'JHARGRAM', 'MIDNAPORE',\n",
       "       'BALASORE', 'SHALIMAR', 'BANKURA', 'BISHNUPUR', 'CHAIBASA',\n",
       "       'CHAKARADHARPUR', 'SAMBALPUR JN.', 'BANASWADI', 'KIRANDUL',\n",
       "       'BALHARSHAH', 'CHANDAFORT', 'RANCHI', 'HOWRAH JN.', 'DURG',\n",
       "       'MUMBAI CENTRAL', 'GANDHIDHAM JN.', 'AJMER JN.', 'UDAIPUR CITY',\n",
       "       'SAI NAGAR SHIRDI', 'DADAR', 'BHUBANESWAR',\n",
       "       'CHHATRAPATI SHAHU MAHARAJ TERMINUS', 'BHUSAVAL JN.', 'SOLAPUR',\n",
       "       'MYSORE JN.', 'GONDIA JN.', 'MIRAJ JN.', 'AHMEDABAD', 'AZAMGARH',\n",
       "       'AMRITSAR JN.', 'SALEM JN.', 'FAIZABAD JN.', 'VARANASI JN.',\n",
       "       'KAZIPET JN.', 'VERAVAL', 'BHAGAT-KI-KOTHI', 'NEW BHUJ',\n",
       "       'GWALIOR JN', 'JHANSI JN', 'BALRAMPUR,', 'BARAUNI JN.',\n",
       "       'INDORE BG', 'AMBIKAPUR',\n",
       "       'KRANTIVIRA SANGOLLI RAYANNA (BENGALURU STATION)', 'GULBARGA',\n",
       "       'AMRAVATI', 'SOMNATH', 'SINGRAULI', 'MHOW', 'ETAWAH',\n",
       "       'MATHURA JN.', 'KURUKSHETRA JN.', 'HABIBGANJ', 'KALKA',\n",
       "       'DEHRA DUN', 'BARBIL', 'KANPUR CENTRAL JN.', 'AGRA  FORT',\n",
       "       'LUDHIANA JN.', 'KATHGODAM', 'MOGA', 'CHANDIGARH',\n",
       "       'FIROZPUR CANTT JN.', 'AGRA CANTT', 'UNA HIMACHAL', 'JORHAT TOWN',\n",
       "       'RAIGARH', 'JALNA', 'CALICUT', 'KANNUR', 'MAYILADUTURAI JN.',\n",
       "       'DIBRUGARH', 'NAHARLAGUN', 'MANMAD JN.', 'PATLIPUTRA',\n",
       "       'SULTANPUR JN.', 'DANAPUR', 'PARTAPGARH JN.', 'MUZAFFARPUR JN.',\n",
       "       'DELHI-SARAI ROHILLA', 'BHAGALPUR', 'SEALDAH', 'ALLAHABAD JN.',\n",
       "       'NANGAL DAM', 'ALLAHABAD CITY', 'BOLPUR', 'RAMPUR HAT',\n",
       "       'HALDIBARI', 'JAISALMER', 'NEW ALIPURDUAR', 'GAYA JN.', 'RAJGIR',\n",
       "       'ISLAMPUR', 'DIBRUGARH TOWN', 'HALDIA', 'MANIKPUR JN.', 'HAPA',\n",
       "       'JAMNAGAR', 'JOGBANI', 'BANGALORE CANTT.', 'KAMAKHYA JN',\n",
       "       'RAMNAGAR', 'RAIPUR JN.', 'MANDUADIH', 'HISAR JN', 'JAYNAGAR',\n",
       "       'MANGALORE CENTRAL', 'KARAIKKUDI', 'KANNIYAKUMARI',\n",
       "       'TIRUCHIRAPPALLI JN.', 'NAGERCOIL JN.', 'SENGOTTAI JN',\n",
       "       'METTUPALAIYAM JN.', 'SRI SATYA SAI PRASANTI NILAYAM', 'TUTICORIN',\n",
       "       'GUNTUR JN.', 'GUDUR JN.', 'DHARWAD', 'VASCO-DA-GAMA',\n",
       "       'VIKRABAD JN.', 'MACHILIPATNAM', 'SIRPURKAGHAZ NAGAR', 'CHITTOOR',\n",
       "       'PURULIA JN.', 'BOKARO STEEL CITY', 'DIGHA FS', 'TITLA GARH JN.',\n",
       "       'BHOJUDIH JN.', 'BANGRIPOSI', 'BALANGIR', 'PORBANDAR', 'VALSAD',\n",
       "       'SURAT', 'VADODARA JN.', 'DAHOD', 'BHAVNAGAR TERMINUS', 'MAHUVA',\n",
       "       'MALDA TOWN', 'BARDDHAMAN JN.', 'AZIMGANJ JN.', 'SIURI',\n",
       "       'BALURGHAT', 'LALGOLA', 'BALLIA', 'GEDE', 'GHAZIPUR CITY',\n",
       "       'PETRAPOLE', 'RADHIKAPUR', 'NEW COOCH BEHAR', 'ALIPUR DUAR JN.',\n",
       "       'SITAMARHI', 'SAHIBGANJ', 'BANKA', 'BHABUA ROAD', 'DEOGHAR',\n",
       "       'BARKAKANA', 'ALLEPPEY', 'NABADWIP DHAM', 'GONDA JN.',\n",
       "       'HOSHIARPUR', 'AGARTALA', 'SIKAR JN.', 'KOTDWARA', 'TILAK BRIDGE',\n",
       "       'PRAYAG JN.', 'CHITRAKUTDHAM KARWI', 'ALIGARH JN.', 'MANKAPUR JN.',\n",
       "       'MEERUT CITY JN.', 'JAUNPUR JN.', 'RAE BARELI JN.', 'BAREILLY JN.',\n",
       "       'UJJAIN JN', 'ROHTAK JN.', 'BARWADIH JN', 'CHOPAN', 'BATHINDA JN',\n",
       "       'FARUKHNAGAR', 'AMB  ANDAURA', 'RISHIKESH', 'CHHINWARA JN',\n",
       "       'BARMER', 'JALANDHAR CITY JN.', 'LALGARH JN.', 'BHIWANI JN.',\n",
       "       'FAZILKA JN.', 'PANIPAT JN.', 'ALWAR JN.', 'MUNABAO',\n",
       "       'VARANASI CITY', 'NAUTANWA', 'MAU JN.', 'KASGANJ JN.', 'OKHA',\n",
       "       'PANVEL', 'BADSHAHNAGAR', 'RAMESWARAM', 'NARKATIAGANJ JN.',\n",
       "       'SILGHAT TOWN', 'UDHNA JN.', 'LEDO', 'FURKATING JN.', 'TAMBARAM',\n",
       "       'DIMAPUR', 'MARIANI JN.', 'DHUBRI', 'LUMDING JN.', 'DEKARGAON',\n",
       "       'NEW TINSUKIA JN', 'JHAJHA', 'ARAKKONAM JN', 'JOLARPETTAI JN',\n",
       "       'TIRUCHENDUR', 'GURUVAYUR', 'VANCHI MANIYACHCHI JN', 'MANNARGUDI',\n",
       "       'THANJAVUR JN.', 'NAGAPPATTINAM', 'VELANKANNI', 'TALGUPPA',\n",
       "       'SHORANUR JN.', 'NILAMBUR ROAD', 'KAWR', 'HARIHAR JN.',\n",
       "       'SHIMOGA TOWN', 'ERODE JN.', 'PUNALUR', 'PALAKKAD JN',\n",
       "       'GUNTAKAL JN.', 'KURNOOL TOWN', 'MANUGURU', 'DHARMAVARAM JN.',\n",
       "       'NIDADAVOLU JN.', 'BAGALKOT', 'GUDIVADA JN.', 'PURNA  JN.',\n",
       "       'REPALLE', 'AKOLA JN.', 'NARKHER', 'DHARMABAD', 'JAGADALPUR',\n",
       "       'BHANJPUR', 'ROURKELA', 'KORAPUT JN.', 'GUNUPUR', 'GEVRA-ROAD',\n",
       "       'RAYAGADA JN.', 'MURI', 'PARADEEP', 'JUNAGARH ROAD', 'DUMKA',\n",
       "       'PURNEA COURT', 'UDHAMPUR', 'PALANPUR JN', 'GANDHINAGAR CAPITAL',\n",
       "       'RATLAM JN', 'NATHDWARA', 'MADAR JN', 'KHAJAURAHO',\n",
       "       'CHITTAURGARH JN', 'MAHOBA', 'BHIND', 'DAMOH', 'VILLUPURAM JN.',\n",
       "       'HASSAN JN.', 'ADRA', 'BHILAD', 'PALITANA', 'RANINAGAR JALPAIGURI',\n",
       "       'SHAKTINAGAR', 'GARWA ROAD JN.', 'NAJIBABAD JN.', 'MORADABAD JN.',\n",
       "       'SAGAULI JN.', 'MANDSOR', 'BALLYGUNGE JN.', 'BARRACKPORE',\n",
       "       'NEW ALIPUR (CALCUTTA)', 'NAIHATI JN.', 'MAJERHAT',\n",
       "       'KALYANI SIMANTA', 'BENOY BADAL DINESH BAG', 'PRINCEP GHAT',\n",
       "       'BARASAT JN.', 'DATTAPUKUR', 'HASANABAD', 'HABRA', 'BANGAON JN.',\n",
       "       'MADHYAM GRAM', 'CHAMPAHATI', 'LAKSHMIKANTAPUR', 'BUDGE BUDGE',\n",
       "       'KATWA JN.', 'KANKURGACHHI ROAD JN.', 'SHANTIPUR JN.',\n",
       "       'RANAGHAT JN.', 'KRISHNA NAGAR CITY JN.', 'DANKUNI JN.',\n",
       "       'BARUI PARA', 'CANNING', 'DUM DUM JN.', 'GOBARDANGA',\n",
       "       'DUMDUM CANTONMENT', 'THAKURNAGAR', 'BARUIPUR JN.', 'SONARPUR JN.',\n",
       "       'NAMKHANA', 'DIAMOND HARBOUR', 'MAGRAHAT', 'KWAKDWIP', 'BALGONA',\n",
       "       'SHRIPAT SHRIKHANDA', 'CHANDANPUR', 'GURAP', 'MASAGRAM',\n",
       "       'SHRIRAMPUR', 'SEORAPHULI JN.', 'BELURMATH', 'BANDEL JN.',\n",
       "       'SINGUR', 'HARI PAL', 'TARAKESHWAR', 'ARAMBAG', 'BALLY',\n",
       "       'PUNDOOAH', 'MEMARI', 'PANSKURA', 'ULUBARIA', 'BAGNAN', 'MECHEDA',\n",
       "       'BALICHAK', 'KOLAGHAT', 'AMTA', 'CHENNAI BEACH',\n",
       "       'ST. THOMAS MOUNT', 'PALLAVARAM', 'TIRUMALPUR', 'KANCHIPURAM',\n",
       "       'VELACHEERY', 'MOOR MARKET', 'GUMMIDIPUNDI', 'PONNERI',\n",
       "       'SULLURUPETTA', 'AVADI', 'PATTABIRAM E DEPOT', 'TIRUVALLUR',\n",
       "       'TIRUTTANI', 'ENNORE', 'PATTABIRAM EAST CABIN', 'TIRUNINRAVUR',\n",
       "       'KADAMBATTUR', 'LINGAMPALLI', 'FALAKNUMA', 'RATNAGIRI', 'DIVA JN',\n",
       "       'DAUND JN.', 'CHALISGAON JN.', 'DHULE', 'BADNERA JN.',\n",
       "       'NEW AMRAVATI', 'ITARSI', 'DEVLALI', 'KATNI', 'CHHEOKI',\n",
       "       'WARDHA JN.', 'AMLA JN.', 'BETUL', 'BORDHAI', 'KARJAT', 'BARAMATI',\n",
       "       'CASTLE ROCK', 'BELLARY JN.', 'IGATPURI', 'PARLI VAIJNATH',\n",
       "       'SANGLI', 'LONDA JN.', 'SATARA', 'KURDUVADI JN.', 'BINA',\n",
       "       'KATNI MURWARA', 'CHIRMIRI', 'GUNA', 'SATNA', 'KHANDWA JN. (CR)',\n",
       "       'BIR', 'NAINPUR JN.', 'MADANMAHAL', 'ANUPPUR JN.', 'AIT JN',\n",
       "       'KONCH', 'SHAMLI', 'MARWAR JN.', 'MAVLI JN.', 'GWALIOR (NG)',\n",
       "       'SHEOPUR KALAN', 'SABALGARH', 'DHOLPUR (NG)', 'SIRMUTTRA',\n",
       "       'TANTPUR', 'BARI', 'PILIBHIT JN.', 'MAILANI JN.',\n",
       "       'SHAHJAHANPUR JN', 'TIKUNIA', 'BAHRAICH', 'NEPALGANJ ROAD',\n",
       "       'SHIMLA', 'JAWALAMUKHI ROAD', 'BAIJNATH PAPROLA', 'JOGINDER NAGAR',\n",
       "       'DARJEELING', 'KURSEONG', 'RANUJ', 'AHMEDABAD JN.', 'VERAVAL MG',\n",
       "       'DHASA JN (MG)', 'JETALSAR JN (MG)', 'BOTAD JN (MG)', 'GANDHIGRAM',\n",
       "       'DELVADA', 'JUNAGADH JN', 'KODINAR', 'KHIJADIYA JN', 'SANAWAD',\n",
       "       'BARHARWA JN.', 'MOKAMA JN.', 'FATUHA', 'SASARAM',\n",
       "       'BAKHTIYARPUR JN.', 'TILAIYA', 'SINDRI TOWN', 'NSC BOSE J GOMO',\n",
       "       'DEHRI-ON-SON', 'CHUNAR JN.', 'KAWAR', 'KODERMA', 'KIUL JN.',\n",
       "       'HANSDIHA', 'TINPAHAR JN.', 'RAJMAHAL', 'MADHUPUR JN.', 'GIRDIH',\n",
       "       'DILDARNAGAR JN', 'MUGHAL SARAI JN.', 'TARIGHAT', 'JIND JN',\n",
       "       'NARWANA JN.', 'REWARI JN.', 'JAKHAL JN.', 'SITAPUR CITY JN.',\n",
       "       'RAGHURAJ SINGH', 'UNCHAHAR JN.', 'AYODHYA', 'ARA',\n",
       "       'CHANDAUSI JN.', 'BALAMAU JN.', 'SITAPUR CANTT', 'BURHWAL JN.',\n",
       "       'ROZA JN', 'GAJRAULA JN.', 'SAMBAHAL HATIM SARAI', 'KHURJA JN',\n",
       "       'MEERUT CANT', 'BANDIKUI JN.', 'TUNDLA JN', 'ETAH', 'DHURI JN.',\n",
       "       'PATIALA', 'LOHIAN KHAS JN.', 'JAIJON DOABA', 'ABOHAR',\n",
       "       'SAWAI MADHOPUR JN', 'BILARA', 'BHATNI JN.', 'SIWAN JN.',\n",
       "       'SAMASTIPUR JN.', 'NAKAHA JUNGLE', 'DALIGANJ JN', 'KAPTANGANJ JN.',\n",
       "       'BETTIAH', 'BARHAJ BAZAR', 'SALEMPUR JN.', 'THAWE JN.',\n",
       "       'SHAHGANJ JN.', 'AUNRIHAR JN.', 'DURAUNDHA JN', 'MAHARAJGANJ',\n",
       "       'CHHAPRA KACHEHRI', 'KASHIPUR JN', 'SHIKOHABAD JN.',\n",
       "       'ACHHNERA JN.', 'BHARATPUR JN', 'MAJHOLA PAKARIYA', 'BAMANHAT',\n",
       "       'HAJIPUR JN.', 'BATHUA BAZAR HALT', 'PURNEA JN.',\n",
       "       'DAURAM MADHEPURA', 'BIRAUL', 'MAIRABARI', 'MAISHASHAN', 'JIRIBAM',\n",
       "       'BHAIRABI', 'DHARMANAGAR', 'UDAIPUR', 'DULLABCHERRA',\n",
       "       'BADARPUR JN.', 'MALDA COURT', 'SINGHABAD', 'OLD MALDA',\n",
       "       'BHALUKPONG', 'BUNIYADPUR', 'MENDIPATHAR', 'TINSUKIA JN.',\n",
       "       'SIMALUGURI JN.', 'KATPADI JN', 'VELLORE CANTT', 'CUDDAPAH',\n",
       "       'TRICHUR', 'METTUR DAM', 'KARUR JN.', 'UDHAGAMANDALAM', 'COONOOR',\n",
       "       'CHAMRAJANAGAR', 'NANJANGUD TOWN', 'TUMKUR', 'ARSIKERE JN.',\n",
       "       'CHIKMAGALURU', 'KOTTAYAM', 'EDAMANN', 'KAYANKULAM JN',\n",
       "       'CHITRADURG', 'CHIKJAJUR JN.', 'KABAKA PUTTUR', 'SUBRAHMANYA ROAD',\n",
       "       'CHERVATTUR', 'KASARAGOD', 'BYNDOOR', 'DINDIGUL JN',\n",
       "       'BAGAVATHIPURAM', 'KUMBAKONAM', 'THIRUVARUR JN.', 'HOSPET JN.',\n",
       "       'BIRUR JN.', 'KULEM', 'SIRPUR TOWN', 'BHADRACHALAM ROAD',\n",
       "       'BOLARUM', 'RAICHUR', 'DORNAKAL JN.', 'BITRAGUNTA',\n",
       "       'BHIMAVARAM JN.', 'MEDCHAL', 'MACHERLA', 'NADIKUDE JN.',\n",
       "       'DHONE JN', 'MAHBUBNAGAR', 'BODHAN', 'RAYA DRUG', 'MIRZAPALI',\n",
       "       'PARBHANI JN.', 'TANDUR', 'GADAG JN.', 'WADI JN.', 'BHADRAKH',\n",
       "       'KHURDA ROAD JN.', 'JAJPUR KEONJHAR ROAD', 'CHAKULIA', 'GUA',\n",
       "       'ITWARI JN.', 'JHARSUGUDA JN.', 'BIRMITRAPUR', 'BARSUAN',\n",
       "       'GARBETA', 'CHANDIA ROAD', 'MANENDRAGARH', 'LANJI GARH ROAD',\n",
       "       'CUTTACK JN.', 'BERHAMPUR', 'TALCHER', 'PALASA', 'ANGUL',\n",
       "       'KENDUJHAR', 'NAYAGARHTOWN', 'LOHARDAGA  BS', 'TORI', 'SHAHDOL',\n",
       "       'KENDRI', 'DHAMTARI', 'RAJIM', 'ABHANPUR JN.', 'WADSA', 'RAMTEK',\n",
       "       'TIRODI', 'TUMSAR RD', 'NAGBHIR JN.', 'VIRAR', 'VAPI',\n",
       "       'VIRAMGAM JN', 'KATHANA', 'PRATAP NAGAR', 'CHHOTA UDEPUR',\n",
       "       'NADIAD JN.', 'MODASA', 'BHARUCH JN.', 'ANAND JN.',\n",
       "       'VADTAL SWAMINARAYAN', 'ANKLESHWAR JN.', 'RAJPIPLA',\n",
       "       'SURENDRANAGAR', 'KANALUS', 'BHANVAD', 'BOTAD', 'DHRANGADHRA',\n",
       "       'DHOLA JN', 'RAJULA CITY', 'NAGDA JN', 'BAYANA', 'YAMUNA BRIDGE',\n",
       "       'MAKSI JN', 'PATAN', 'MAHESANA JN', 'PUSHKAR TERMINUS', 'ANUPGARH',\n",
       "       'PHULERA JN.', 'FATEHPUR-SHEKHAWATI', 'NIMACH', 'BAIDYANATHDHAM',\n",
       "       'RAGHUNATHPUR', 'BUXAR', 'SONPUR JN.', 'DURGAPUR', 'ANDAL JN.',\n",
       "       'SAINTHIA JN.', 'HAZARIBAGH ROAD', 'SONIPAT', 'PALWAL',\n",
       "       'SHAKUR BASTI', 'GHAZIABAD JN.', 'BALLABGARH', 'KOSI KALAN',\n",
       "       'DANKAUR', 'PHAPHUND', 'KALIANPUR', 'BARA BANKI JN.', 'PANKI',\n",
       "       'SAHIBABAD', 'BULANDSHAHR', 'HATHRAS QILAH', 'HATHRAS JN.',\n",
       "       'FATEHPUR', 'NELLORE', 'MELMARUVATHUR', 'HINDUPUR', 'KUPPAM',\n",
       "       'RAMANAGARAM', 'RAVIKAMPADU', 'TUNI', 'TENALI JN.', 'ONGOLE',\n",
       "       'RAJAHMUNDRY', 'WARANGAL', 'BHONGIR', 'JANGAON',\n",
       "       'VIZIANAGARAM JN.', 'GHATSILA', 'BELDA', 'BARABHUM', 'BHAGA JN',\n",
       "       'KHANODIH', 'CHANDRAPURA JN.', 'HIJLI', 'DONGAR GARH',\n",
       "       'PENDRA ROAD', 'GODHRA JN.', 'DAKOR', 'BORIVLI', 'SANJAN',\n",
       "       'UMBERGAON ROAD', 'DAHANU ROAD', 'VASAI ROAD', 'DAHEJ', 'PERNEM',\n",
       "       'DOMBIVLI CTL', 'BOISAR', 'ROHA', 'IDGAH', 'VRINDAVAN',\n",
       "       'INDARA JN.', 'DOHRIGHAT', 'NALHATI JN.', 'NIMTITA',\n",
       "       'JANGIPUR ROAD', 'PATNA GHAT', 'DIGHA GHAT', 'R BLOCK HALT',\n",
       "       'TILRATH', 'KHAGARIA JN.', 'DHANAURI', 'SULTANGANJ', 'BARAUT',\n",
       "       'GARHI HARSARU JN.', 'BEAS JN', 'TARN TARAN', 'BANIHAL', 'BUDGAM',\n",
       "       'BARAMULLA', 'DERABABA NANAK', 'VERKA JN.', 'KHEM KARAN',\n",
       "       'BHAGTANWALA', 'QADIAN', 'MERTA CITY', 'BHILDI JN', 'SARDARSAHAR',\n",
       "       'MANANWALA', 'NAKODAR JN.', 'KOT KAPURA JN', 'PHEPHNA JN.',\n",
       "       'DINHATA', 'HAIBARGAON', 'TEZNARAYANPUR', 'BARSOI JN.', 'TELTA',\n",
       "       'DANGARI', 'KOLAR', 'CHANNA PATNA', 'DHARMAPURI', 'LALGUDI',\n",
       "       'MANAMADURAI', 'VIRUDUNAGAR JN', 'CUDDALORE PORT JN.',\n",
       "       'VRIDHA CHALAM JN.', 'BHIMAVARAM TOWN', 'MARKAPUR ROAD',\n",
       "       'PEDDAPALLI', 'MAHBUBABAD', 'JAGITYAL', 'KOTIPALLI', 'NANDYAL',\n",
       "       'PENDLIMARRI', 'MANOHARABAD', 'JAKLAIR', 'UMDANAGAR', 'HUMNABAD',\n",
       "       'MIRYALAGUDA', 'PIDUGURALLA', 'GADWAL', 'RUPSA JN.', 'BARIPADA PH',\n",
       "       'BADAMPAHAR', 'GRAM MASAGRAM', 'SONAMUKHI PH', 'BOBBILI JN.',\n",
       "       'SALUR', 'KATANGI', 'WARASEONI', 'DALLI-RAJHARA', 'GUDUM',\n",
       "       'BHILWARA', 'KHAMBHAT', 'ABU ROAD', 'WANKANER', 'MORVI',\n",
       "       'MALIYA MIYANA JN.', 'VIJAPUR', 'ADRAJ MOTI', 'AMBLIYASAN JN.',\n",
       "       'CHURCHGATE', 'RAVLI JN', 'ANDHERI', 'KALYAN JN', 'PALASDARI',\n",
       "       'BADLAPUR', 'AMBERNATH', 'KASARA', 'ASANGAON', 'TITVALA',\n",
       "       'DOMBIVLI', 'THANE', 'VIDYAVIHAR', 'KURLA', 'GHAT KOPAR', 'VASHI',\n",
       "       'MUMBAI VADALA ROAD', 'BELAPUR C.B.D', 'MANKHURD', 'CHEMBUR',\n",
       "       'NERUL', 'LONAVLA', 'SHIVAJINAGAR', 'TALEGAON'], dtype=object)"
      ]
     },
     "execution_count": 193,
     "metadata": {},
     "output_type": "execute_result"
    }
   ],
   "source": [
    "df['Source_Station_Name'].unique()"
   ]
  },
  {
   "cell_type": "code",
   "execution_count": 194,
   "id": "b5494260-0fcb-4d26-896b-1e1b15a305ec",
   "metadata": {},
   "outputs": [
    {
     "data": {
      "text/plain": [
       "921"
      ]
     },
     "execution_count": 194,
     "metadata": {},
     "output_type": "execute_result"
    }
   ],
   "source": [
    "df['Source_Station_Name'].nunique()"
   ]
  },
  {
   "cell_type": "code",
   "execution_count": 195,
   "id": "54a200fe-ce64-4cac-85e8-811590eaa406",
   "metadata": {},
   "outputs": [
    {
     "data": {
      "text/plain": [
       "Source_Station_Name\n",
       "CST-MUMBAI         513\n",
       "SEALDAH            372\n",
       "CHENNAI BEACH      339\n",
       "HOWRAH JN.         338\n",
       "KALYAN JN          285\n",
       "                  ... \n",
       "MANENDRAGARH         1\n",
       "LANJI GARH ROAD      1\n",
       "FURKATING JN.        1\n",
       "TALCHER              1\n",
       "KOLAGHAT             1\n",
       "Name: count, Length: 921, dtype: int64"
      ]
     },
     "execution_count": 195,
     "metadata": {},
     "output_type": "execute_result"
    }
   ],
   "source": [
    "df['Source_Station_Name'].value_counts()"
   ]
  },
  {
   "cell_type": "code",
   "execution_count": 196,
   "id": "a15af68d-108c-4f6f-8eee-4d52d9ed0e8f",
   "metadata": {},
   "outputs": [
    {
     "data": {
      "text/plain": [
       "array(['MADGOAN JN.', 'SAWANTWADI ROAD',\n",
       "       'CHHATRAPATI SHAHU MAHARAJ TERMINUS', 'DELHI-SAFDAR JANG',\n",
       "       'VARANASI JN.', 'SHRI MATA VAISHNO DEVI KATRA', 'LUCKNOW JN.',\n",
       "       'SIRSA', 'AMBALA CANTT JN', 'BATHINDA JN', 'PATIALA', 'PANJIPARA',\n",
       "       'SHMATA VD KATRA', 'AMRITSAR JN.', 'NAGPUR JN.(CR)',\n",
       "       'LOKMANYA TILAK TERMINUS', 'KARMALI', 'AJNI', 'CST-MUMBAI',\n",
       "       'MANGALORE JN', 'PUNE JN.', 'KHADKI', 'JABALPUR',\n",
       "       'BANDRA TERMINUS', 'ATARI JN', 'SANTRAGACHI JN.', 'BHOPAL', 'REWA',\n",
       "       'SILCHAR', 'POLLACHI', 'PALANI', 'JAIPUR JN.', 'HYDERABAD DECCAN',\n",
       "       'RAJKOT', 'CHENNAI CENTRAL', 'HATIA', 'PURI', 'KOLKATA',\n",
       "       'DHANBAD JN.', 'ASANSOL MAIN', 'KUSUNDA', 'PHULWARTANR',\n",
       "       'SONARDIH', 'ANAND VIHAR TERMINAL', 'JASIDIH JN.', 'DELHI JN.',\n",
       "       'HAZRAT NIZAMUDDIN JN', 'HARIDWAR JN', 'BIKANER JN.',\n",
       "       'SHRI GANGANAGAR', 'HANUMANGARH JN.', 'SADULPUR JN',\n",
       "       'SURATGARH JN.', 'MAKRANA JN.', 'PARVATSAR CITY', 'JODHPUR JN.',\n",
       "       'RATANAGARH JN', 'MERTA ROAD JN.', 'CHURU', 'SAHARANPUR JN.',\n",
       "       'JAMMU TAWI', 'PATHANKOT JN.', 'BARHNI', 'GORAKHPUR JN.',\n",
       "       'CHHAPRA JN.', 'BASTI', 'FARRUKHABAD JN', 'KANPUR ANWARGANJ',\n",
       "       'LALKUA JN.', 'BAREILLY CITY', 'SAHARSA JN.', 'JAMALPUR JN.',\n",
       "       'KOTA', 'JHALAWAR CITY', 'MURKEONG SELEK', 'NORTH LAKHIMPUR',\n",
       "       'GUWAHATI', 'KISHANGANJ', 'NEW JALPAIGURI JN', 'SILIGURI JN.',\n",
       "       'KATIHAR JN.', 'RANGAPARA NORTH', 'RANGIYA JN.', 'TIRUNELVELI JN',\n",
       "       'CHENNAI EGMORE', 'PONDICHERRY', 'QUILON', 'KOCHUVELI',\n",
       "       'MADURAI JN', 'CHENGALPATTU', 'COIMBATORE  JN.', 'PAYYANUR',\n",
       "       'BANASWADI', 'MARIKUPPAM', 'PANDHARPUR', 'YESVANTPUR JN.',\n",
       "       'ERNAKULAM. JN', 'VISAKHAPATNAM', 'BELGAUM', 'HOSUR',\n",
       "       'BAIYYAPPANAHALLI', 'WHITE FIELD', 'DEVANHALLI', 'BILASPUR JN.',\n",
       "       'KORBA', 'PALGHAT TOWN', 'NAGORE', 'KARAIKAL', 'BIJAPUR JN',\n",
       "       'HUBLI JN.', 'RAXAUL JN.', 'DARBHANGA JN.', 'SECUNDERABAD JN.',\n",
       "       'VIJAYWADA JN.', 'KAKINADA PORT', 'KAKINADA TOWN', 'KACHEGUDA',\n",
       "       'NARASAPUR', 'AURANGABAD', 'NAGARSOL', 'TIRUPATI', 'TATANAGAR JN',\n",
       "       'NEW BONGAIGAON  JN.', 'KRISHNA RAJA PURAM', 'NANDED', 'NIZAMABAD',\n",
       "       'RENIGUNTA JN.', 'JHARGRAM', 'KHARAGPUR', 'BALASORE', 'SHALIMAR',\n",
       "       'BANKURA', 'BISHNUPUR', 'CHAKARADHARPUR', 'CHAIBASA',\n",
       "       'SAMBALPUR JN.', 'KIRANDUL', 'CHANDAFORT', 'BALHARSHAH', 'RANCHI',\n",
       "       'HOWRAH JN.', 'GONDIA JN.', 'NEW DELHI', 'MUMBAI CENTRAL',\n",
       "       'GANDHIDHAM JN.', 'AJMER JN.', 'UDAIPUR CITY', 'SAI NAGAR SHIRDI',\n",
       "       'DADAR', 'BHUBANESWAR', 'BHUSAVAL JN.', 'SOLAPUR', 'MYSORE JN.',\n",
       "       'MIRAJ JN.', 'AHMEDABAD', 'AZAMGARH', 'SALEM JN.', 'FAIZABAD JN.',\n",
       "       'BIDAR', 'KAZIPET JN.', 'VERAVAL', 'BHAGAT-KI-KOTHI', 'NEW BHUJ',\n",
       "       'GWALIOR JN', 'JHANSI JN', 'BALRAMPUR,', 'BARAUNI JN.',\n",
       "       'INDORE BG', 'AMBIKAPUR', 'ITARSI',\n",
       "       'KRANTIVIRA SANGOLLI RAYANNA (BENGALURU STATION)', 'GULBARGA',\n",
       "       'AMRAVATI', 'SOMNATH', 'SINGRAULI', 'MHOW', 'ETAWAH',\n",
       "       'KURUKSHETRA JN.', 'MATHURA JN.', 'HABIBGANJ', 'KALKA',\n",
       "       'DEHRA DUN', 'BARBIL', 'PATNA JN.', 'KANPUR CENTRAL JN.',\n",
       "       'AGRA  FORT', 'LUDHIANA JN.', 'KATHGODAM', 'MOGA', 'CHANDIGARH',\n",
       "       'FIROZPUR CANTT JN.', 'AGRA CANTT', 'UNA HIMACHAL', 'JORHAT TOWN',\n",
       "       'RAIGARH', 'JALNA', 'TRIVANDRUM CENTRAL', 'CALICUT', 'KANNUR',\n",
       "       'MAYILADUTURAI JN.', 'DIBRUGARH', 'NAHARLAGUN', 'MANMAD JN.',\n",
       "       'PATLIPUTRA', 'SULTANPUR JN.', 'DANAPUR', 'PARTAPGARH JN.',\n",
       "       'MUZAFFARPUR JN.', 'DELHI-SARAI ROHILLA', 'BHAGALPUR', 'SEALDAH',\n",
       "       'ALLAHABAD JN.', 'RAJENDRANAGAR TERMINAL', 'NANGAL DAM',\n",
       "       'ALLAHABAD CITY', 'BOLPUR', 'RAMPUR HAT', 'HALDIBARI', 'JAISALMER',\n",
       "       'NEW ALIPURDUAR', 'GAYA JN.', 'RAJGIR', 'ISLAMPUR',\n",
       "       'DIBRUGARH TOWN', 'HALDIA', 'MANIKPUR JN.', 'HAPA', 'JAMNAGAR',\n",
       "       'JOGBANI', 'KAMAKHYA JN', 'BANGALORE CANTT.', 'RAIPUR JN.',\n",
       "       'MANDUADIH', 'DURG', 'HISAR JN', 'JAYNAGAR', 'MANGALORE CENTRAL',\n",
       "       'KARAIKKUDI', 'KANNIYAKUMARI', 'TIRUCHIRAPPALLI JN.',\n",
       "       'NAGERCOIL JN.', 'SENGOTTAI JN', 'METTUPALAIYAM JN.',\n",
       "       'SRI SATYA SAI PRASANTI NILAYAM', 'TUTICORIN', 'GUNTUR JN.',\n",
       "       'GUDUR JN.', 'DHARWAD', 'VASCO-DA-GAMA', 'VIKRABAD JN.',\n",
       "       'MACHILIPATNAM', 'SIRPURKAGHAZ NAGAR', 'KARIM NAGAR', 'CHITTOOR',\n",
       "       'PURULIA JN.', 'BOKARO STEEL CITY', 'DIGHA FS', 'TITLA GARH JN.',\n",
       "       'BHOJUDIH JN.', 'BANGRIPOSI', 'BALANGIR', 'PORBANDAR', 'VALSAD',\n",
       "       'SURAT', 'VADODARA JN.', 'DAHOD', 'BHAVNAGAR TERMINUS',\n",
       "       'MALDA TOWN', 'BARDDHAMAN JN.', 'AZIMGANJ JN.', 'SIURI',\n",
       "       'BALURGHAT', 'LALGOLA', 'BALLIA', 'GEDE', 'GHAZIPUR CITY',\n",
       "       'PETRAPOLE', 'RADHIKAPUR', 'NEW COOCH BEHAR', 'ALIPUR DUAR JN.',\n",
       "       'SITAMARHI', 'SAHIBGANJ', 'BANKA', 'BHABUA ROAD', 'DEOGHAR',\n",
       "       'BARKAKANA', 'ALLEPPEY', 'NABADWIP DHAM', 'GONDA JN.',\n",
       "       'HOSHIARPUR', 'AGARTALA', 'SIKAR JN.', 'KOTDWARA', 'TILAK BRIDGE',\n",
       "       'PRAYAG JN.', 'CHITRAKUTDHAM KARWI', 'ALIGARH JN.', 'MANKAPUR JN.',\n",
       "       'MEERUT CITY JN.', 'RAE BARELI JN.', 'JAUNPUR JN.', 'BAREILLY JN.',\n",
       "       'MUGHAL SARAI JN.', 'UJJAIN JN', 'ROHTAK JN.', 'CHOPAN',\n",
       "       'BARWADIH JN', 'FARUKHNAGAR', 'AMB  ANDAURA', 'RISHIKESH',\n",
       "       'CHHINWARA JN', 'BARMER', 'JALANDHAR CITY JN.', 'LALGARH JN.',\n",
       "       'BHIWANI JN.', 'FAZILKA JN.', 'PANIPAT JN.', 'ALWAR JN.',\n",
       "       'MUNABAO', 'VARANASI CITY', 'GOMTINAGAR F', 'NAUTANWA', 'MAU JN.',\n",
       "       'RAMNAGAR', 'KASGANJ JN.', 'OKHA', 'PANVEL', 'BADSHAHNAGAR',\n",
       "       'RAMESWARAM', 'NARKATIAGANJ JN.', 'SILGHAT TOWN', 'UDHNA JN.',\n",
       "       'LEDO', 'FURKATING JN.', 'TAMBARAM', 'DIMAPUR', 'MARIANI JN.',\n",
       "       'DHUBRI', 'LUMDING JN.', 'DEKARGAON', 'NEW TINSUKIA JN', 'JHAJHA',\n",
       "       'JOLARPETTAI JN', 'ARAKKONAM JN', 'TIRUCHENDUR', 'GURUVAYUR',\n",
       "       'VANCHI MANIYACHCHI JN', 'MANNARGUDI', 'THANJAVUR JN.',\n",
       "       'VELANKANNI', 'NAGAPPATTINAM', 'TALGUPPA', 'SHORANUR JN.',\n",
       "       'NILAMBUR ROAD', 'KAWR', 'BANGARPET JN.', 'HARIHAR JN.',\n",
       "       'SHIMOGA TOWN', 'ERODE JN.', 'PALAKKAD JN', 'PUNALUR',\n",
       "       'GUNTAKAL JN.', 'KURNOOL TOWN', 'MANUGURU', 'DHARMAVARAM JN.',\n",
       "       'NIDADAVOLU JN.', 'LONDA JN.', 'BAGALKOT', 'GUDIVADA JN.',\n",
       "       'ADILABAD', 'PURNA  JN.', 'REPALLE', 'AKOLA JN.', 'NARKHER',\n",
       "       'DHARMABAD', 'JAGADALPUR', 'BHANJPUR', 'KORAPUT JN.', 'ROURKELA',\n",
       "       'GUNUPUR', 'RAYAGADA JN.', 'MURI', 'PARADEEP', 'JUNAGARH ROAD',\n",
       "       'DUMKA', 'PURNEA COURT', 'UDHAMPUR', 'PALANPUR JN',\n",
       "       'GANDHINAGAR CAPITAL', 'RATLAM JN', 'NATHDWARA', 'MADAR JN',\n",
       "       'KHAJAURAHO', 'CHITTAURGARH JN', 'MAHOBA', 'BHIND', 'DAMOH',\n",
       "       'VILLUPURAM JN.', 'HASSAN JN.', 'ADRA', 'BHILAD', 'PALITANA',\n",
       "       'MAHUVA', 'RANINAGAR JALPAIGURI', 'SHAKTINAGAR', 'GARWA ROAD JN.',\n",
       "       'NAJIBABAD JN.', 'MORADABAD JN.', 'SAGAULI JN.', 'MANDSOR',\n",
       "       'BARRACKPORE', 'MAJERHAT', 'BENOY BADAL DINESH BAG', 'NAIHATI JN.',\n",
       "       'BALLYGUNGE JN.', 'NEW ALIPUR (CALCUTTA)', 'RANAGHAT JN.',\n",
       "       'KRISHNA NAGAR CITY JN.', 'DUM DUM JN.', 'BARASAT JN.',\n",
       "       'DATTAPUKUR', 'HASANABAD', 'PRINCEP GHAT', 'HABRA', 'MADHYAM GRAM',\n",
       "       'GHUTIARI SHARIF', 'BARUIPUR JN.', 'LAKSHMIKANTAPUR', 'KATWA JN.',\n",
       "       'KALYANI SIMANTA', 'SHANTIPUR JN.', 'DANKUNI JN.', 'BARUI PARA',\n",
       "       'GOBARDANGA', 'BANGAON JN.', 'DUMDUM CANTONMENT', 'THAKURNAGAR',\n",
       "       'BUDGE BUDGE', 'CANNING', 'SONARPUR JN.', 'KWAKDWIP', 'NAMKHANA',\n",
       "       'DIAMOND HARBOUR', 'MAGRAHAT', 'BALGONA', 'SHRIPAT SHRIKHANDA',\n",
       "       'CHANDANPUR', 'GURAP', 'MASAGRAM', 'SHRIRAMPUR', 'SEORAPHULI JN.',\n",
       "       'BELURMATH', 'BANDEL JN.', 'SINGUR', 'HARI PAL', 'TARAKESHWAR',\n",
       "       'ARAMBAG', 'BALLY', 'PUNDOOAH', 'MEMARI', 'PANSKURA', 'ULUBARIA',\n",
       "       'MECHEDA', 'BALICHAK', 'KOLAGHAT', 'MIDNAPORE', 'AMTA',\n",
       "       'CHENNAI BEACH', 'PALLAVARAM', 'ST. THOMAS MOUNT', 'TIRUMALPUR',\n",
       "       'KANCHIPURAM', 'VELACHEERY', 'GUMMIDIPUNDI', 'MOOR MARKET',\n",
       "       'PONNERI', 'SULLURUPETTA', 'ENNORE', 'AVADI', 'PATTABIRAM E DEPOT',\n",
       "       'TIRUVALLUR', 'TIRUTTANI', 'KADAMBATTUR', 'LINGAMPALLI',\n",
       "       'FALAKNUMA', 'RATNAGIRI', 'DIVA JN', 'DAUND JN.', 'DHULE',\n",
       "       'CHALISGAON JN.', 'BADNERA JN.', 'NEW AMRAVATI', 'DEVLALI',\n",
       "       'KATNI', 'CHHEOKI', 'WARDHA JN.', 'BETUL', 'AMLA JN.', 'BORDHAI',\n",
       "       'KARJAT', 'BARAMATI', 'CASTLE ROCK', 'BELLARY JN.', 'IGATPURI',\n",
       "       'PARLI VAIJNATH', 'SANGLI', 'SATARA', 'KURDUVADI JN.',\n",
       "       'KATNI MURWARA', 'BINA', 'CHIRMIRI', 'GUNA', 'SATNA', 'BIR',\n",
       "       'KHANDWA JN. (CR)', 'NAINPUR JN.', 'MADANMAHAL', 'ANUPPUR JN.',\n",
       "       'BANDA JN', 'KONCH', 'AIT JN', 'SHAMLI', 'MAVLI JN.', 'MARWAR JN.',\n",
       "       'SHEOPUR KALAN', 'GWALIOR (NG)', 'SABALGARH', 'SIRMUTTRA',\n",
       "       'DHOLPUR (NG)', 'TANTPUR', 'BARI', 'MAILANI JN.', 'PILIBHIT JN.',\n",
       "       'SHAHJAHANPUR JN', 'TIKUNIA', 'BAHRAICH', 'NEPALGANJ ROAD',\n",
       "       'SHIMLA', 'JAWALAMUKHI ROAD', 'BAIJNATH PAPROLA', 'JOGINDER NAGAR',\n",
       "       'DARJEELING', 'KURSEONG', 'AHMEDABAD JN.', 'RANUJ',\n",
       "       'DHASA JN (MG)', 'VERAVAL MG', 'JETALSAR JN (MG)', 'GANDHIGRAM',\n",
       "       'BOTAD JN (MG)', 'DELVADA', 'JUNAGADH JN', 'KODINAR',\n",
       "       'KHIJADIYA JN', 'SANAWAD', 'BARHARWA JN.', 'MOKAMA JN.', 'FATUHA',\n",
       "       'SASARAM', 'BAKHTIYARPUR JN.', 'TILAIYA', 'SINDRI TOWN',\n",
       "       'NSC BOSE J GOMO', 'DEHRI-ON-SON', 'CHUNAR JN.', 'KODERMA',\n",
       "       'KAWAR', 'KIUL JN.', 'HANSDIHA', 'RAJMAHAL', 'TINPAHAR JN.',\n",
       "       'GIRDIH', 'MADHUPUR JN.', 'DILDARNAGAR JN', 'TARIGHAT', 'JIND JN',\n",
       "       'NARWANA JN.', 'JAKHAL JN.', 'SITAPUR CITY JN.', 'REWARI JN.',\n",
       "       'FATEHPUR', 'RAHIMABAD', 'RAGHURAJ SINGH', 'UNCHAHAR JN.',\n",
       "       'AYODHYA', 'ARA', 'CHANDAUSI JN.', 'SITAPUR CANTT', 'BALAMAU JN.',\n",
       "       'BURHWAL JN.', 'ROZA JN', 'GAJRAULA JN.', 'SAMBAHAL HATIM SARAI',\n",
       "       'KHURJA JN', 'MEERUT CANT', 'BANDIKUI JN.', 'TUNDLA JN', 'ETAH',\n",
       "       'DHURI JN.', 'LOHIAN KHAS JN.', 'JAIJON DOABA', 'ABOHAR',\n",
       "       'SAWAI MADHOPUR JN', 'BILARA', 'BHATNI JN.', 'SIWAN JN.',\n",
       "       'SAMASTIPUR JN.', 'NAKAHA JUNGLE', 'BETTIAH', 'DALIGANJ JN',\n",
       "       'KAPTANGANJ JN.', 'BARHAJ BAZAR', 'SALEMPUR JN.', 'THAWE JN.',\n",
       "       'SHAHGANJ JN.', 'AUNRIHAR JN.', 'DURAUNDHA JN', 'MAHARAJGANJ',\n",
       "       'CHHAPRA KACHEHRI', 'KASHIPUR JN', 'SHIKOHABAD JN.',\n",
       "       'ACHHNERA JN.', 'BHARATPUR JN', 'MAJHOLA PAKARIYA', 'BAMANHAT',\n",
       "       'HAJIPUR JN.', 'BATHUA BAZAR HALT', 'PURNEA JN.',\n",
       "       'DAURAM MADHEPURA', 'BIRAUL', 'MAIRABARI', 'MAISHASHAN',\n",
       "       'VANGAICHUNGPAO', 'BHAIRABI', 'DHARMANAGAR', 'UDAIPUR',\n",
       "       'DULLABCHERRA', 'BADARPUR JN.', 'MALDA COURT', 'OLD MALDA',\n",
       "       'SINGHABAD', 'BHALUKPONG', 'BUNIYADPUR', 'MENDIPATHAR',\n",
       "       'TINSUKIA JN.', 'SIMALUGURI JN.', 'KATPADI JN', 'VELLORE CANTT',\n",
       "       'CUDDAPAH', 'TRICHUR', 'METTUR DAM', 'KARUR JN.', 'UDHAGAMANDALAM',\n",
       "       'COONOOR', 'CHAMRAJANAGAR', 'NANJANGUD TOWN', 'TUMKUR',\n",
       "       'ARSIKERE JN.', 'CHIKMAGALURU', 'KOTTAYAM', 'EDAMANN',\n",
       "       'KAYANKULAM JN', 'CHITRADURG', 'CHIKJAJUR JN.', 'KABAKA PUTTUR',\n",
       "       'SUBRAHMANYA ROAD', 'CHERVATTUR', 'BYNDOOR', 'KASARAGOD',\n",
       "       'DINDIGUL JN', 'BAGAVATHIPURAM', 'KUMBAKONAM', 'THIRUVARUR JN.',\n",
       "       'HOSPET JN.', 'BIRUR JN.', 'KULEM', 'SIRPUR TOWN',\n",
       "       'BHADRACHALAM ROAD', 'BOLARUM', 'RAICHUR', 'DORNAKAL JN.',\n",
       "       'BITRAGUNTA', 'BHIMAVARAM JN.', 'MEDCHAL', 'MACHERLA',\n",
       "       'NADIKUDE JN.', 'DHONE JN', 'MAHBUBNAGAR', 'MIRZAPALI', 'BODHAN',\n",
       "       'RAYA DRUG', 'TANDUR', 'PARBHANI JN.', 'GADAG JN.', 'WADI JN.',\n",
       "       'BHADRAKH', 'KHURDA ROAD JN.', 'JAJPUR KEONJHAR ROAD', 'CHAKULIA',\n",
       "       'GUA', 'ITWARI JN.', 'JHARSUGUDA JN.', 'BARSUAN', 'BIRMITRAPUR',\n",
       "       'GARBETA', 'GEVRA-ROAD', 'CHANDIA ROAD', 'MANENDRAGARH',\n",
       "       'LANJI GARH ROAD', 'CUTTACK JN.', 'BERHAMPUR', 'TALCHER', 'PALASA',\n",
       "       'ANGUL', 'KENDUJHAR', 'NAYAGARHTOWN', 'LOHARDAGA  BS', 'TORI',\n",
       "       'SHAHDOL', 'DHAMTARI', 'KENDRI', 'RAJIM', 'ABHANPUR JN.', 'WADSA',\n",
       "       'RAMTEK', 'TIRODI', 'TUMSAR RD', 'NAGBHIR JN.', 'VIRAR', 'VAPI',\n",
       "       'VIRAMGAM JN', 'KATHANA', 'CHHOTA UDEPUR', 'PRATAP NAGAR',\n",
       "       'MODASA', 'NADIAD JN.', 'ANAND JN.', 'BHARUCH JN.',\n",
       "       'VADTAL SWAMINARAYAN', 'RAJPIPLA', 'ANKLESHWAR JN.',\n",
       "       'SURENDRANAGAR', 'KANALUS', 'BHANVAD', 'BOTAD', 'DHRANGADHRA',\n",
       "       'DHOLA JN', 'RAJULA CITY', 'NAGDA JN', 'YAMUNA BRIDGE', 'BAYANA',\n",
       "       'MAKSI JN', 'PATAN', 'MAHESANA JN', 'PUSHKAR TERMINUS', 'ANUPGARH',\n",
       "       'PHULERA JN.', 'FATEHPUR-SHEKHAWATI', 'NIMACH', 'BAIDYANATHDHAM',\n",
       "       'RAGHUNATHPUR', 'BUXAR', 'SONPUR JN.', 'DURGAPUR', 'ANDAL JN.',\n",
       "       'SAINTHIA JN.', 'HAZARIBAGH ROAD', 'SONIPAT', 'SAHIBABAD',\n",
       "       'SHAKUR BASTI', 'PALWAL', 'GHAZIABAD JN.', 'KOSI KALAN', 'DANKAUR',\n",
       "       'PHAPHUND', 'PANKI', 'BARA BANKI JN.', 'KALIANPUR', 'BULANDSHAHR',\n",
       "       'HATHRAS QILAH', 'HATHRAS JN.', 'BALLABGARH', 'NELLORE',\n",
       "       'MELMARUVATHUR', 'HINDUPUR', 'KUPPAM', 'RAMANAGARAM',\n",
       "       'RAJAHMUNDRY', 'TENALI JN.', 'ONGOLE', 'WARANGAL', 'BHONGIR',\n",
       "       'JANGAON', 'VIZIANAGARAM JN.', 'SRIKAKULAM ROAD', 'RAVIKAMPADU',\n",
       "       'TUNI', 'GHATSILA', 'JALESWAR', 'BELDA', 'BARABHUM', 'KHANODIH',\n",
       "       'BHAGA JN', 'CHANDRAPURA JN.', 'HIJLI', 'DONGAR GARH',\n",
       "       'PENDRA ROAD', 'GODHRA JN.', 'DAKOR', 'SANJAN', 'UMBERGAON ROAD',\n",
       "       'DAHANU ROAD', 'VASAI ROAD', 'NANDURBAR', 'BORIVLI', 'DAHEJ',\n",
       "       'PERNEM', 'BOISAR', 'ROHA', 'IDGAH', 'VRINDAVAN', 'DOHRIGHAT',\n",
       "       'INDARA JN.', 'NALHATI JN.', 'NIMTITA', 'JANGIPUR ROAD',\n",
       "       'PATNA GHAT', 'DIGHA GHAT', 'R BLOCK HALT', 'TILRATH',\n",
       "       'KHAGARIA JN.', 'DHANAURI', 'SULTANGANJ', 'BARAUT',\n",
       "       'GARHI HARSARU JN.', 'TARN TARAN', 'BEAS JN', 'BUDGAM', 'BANIHAL',\n",
       "       'BARAMULLA', 'MANANWALA', 'DERABABA NANAK', 'VERKA JN.',\n",
       "       'KHEM KARAN', 'BHAGTANWALA', 'QADIAN', 'MERTA CITY', 'BHILDI JN',\n",
       "       'SARDARSAHAR', 'NAKODAR JN.', 'KOT KAPURA JN', 'PHEPHNA JN.',\n",
       "       'DINHATA', 'HAIBARGAON', 'TEZNARAYANPUR', 'BARSOI JN.', 'TELTA',\n",
       "       'DANGARI', 'KOLAR', 'CHANNA PATNA', 'DHARMAPURI', 'LALGUDI',\n",
       "       'MANAMADURAI', 'VIRUDUNAGAR JN', 'CUDDALORE PORT JN.',\n",
       "       'VRIDHA CHALAM JN.', 'BHIMAVARAM TOWN', 'MARKAPUR ROAD',\n",
       "       'MAHBUBABAD', 'PEDDAPALLI', 'JAGITYAL', 'KOTIPALLI', 'NANDYAL',\n",
       "       'PENDLIMARRI', 'MANOHARABAD', 'JAKLAIR', 'UMDANAGAR', 'HUMNABAD',\n",
       "       'MIRYALAGUDA', 'PIDUGURALLA', 'GADWAL', 'RUPSA JN.', 'BARIPADA PH',\n",
       "       'BADAMPAHAR', 'GRAM MASAGRAM', 'SONAMUKHI PH', 'SALUR',\n",
       "       'BOBBILI JN.', 'KATANGI', 'WARASEONI', 'GUDUM', 'DALLI-RAJHARA',\n",
       "       'BHILWARA', 'KHAMBHAT', 'ABU ROAD', 'MORVI', 'WANKANER',\n",
       "       'MALIYA MIYANA JN.', 'ADRAJ MOTI', 'VIJAPUR', 'AMBLIYASAN JN.',\n",
       "       'CHURCHGATE', 'RAVLI JN', 'ANDHERI', 'PALASDARI', 'KALYAN JN',\n",
       "       'BADLAPUR', 'AMBERNATH', 'KASARA', 'ASANGAON', 'TITVALA',\n",
       "       'DOMBIVLI', 'THANE', 'KURLA', 'GHAT KOPAR', 'MUMBAI VADALA ROAD',\n",
       "       'VASHI', 'BELAPUR C.B.D', 'MANKHURD', 'CHEMBUR', 'NERUL',\n",
       "       'LONAVLA', 'SHIVAJINAGAR', 'TALEGAON'], dtype=object)"
      ]
     },
     "execution_count": 196,
     "metadata": {},
     "output_type": "execute_result"
    }
   ],
   "source": [
    "df['Destination_Station_Name'].unique()"
   ]
  },
  {
   "cell_type": "code",
   "execution_count": 197,
   "id": "acd9f3e3-b478-46db-a773-7ae88a776766",
   "metadata": {},
   "outputs": [
    {
     "data": {
      "text/plain": [
       "924"
      ]
     },
     "execution_count": 197,
     "metadata": {},
     "output_type": "execute_result"
    }
   ],
   "source": [
    "df['Destination_Station_Name'].nunique()"
   ]
  },
  {
   "cell_type": "code",
   "execution_count": 198,
   "id": "5490cd92-210b-40f5-be88-b63ce00d8c3f",
   "metadata": {},
   "outputs": [
    {
     "data": {
      "text/plain": [
       "Destination_Station_Name\n",
       "CST-MUMBAI         514\n",
       "SEALDAH            373\n",
       "CHENNAI BEACH      342\n",
       "HOWRAH JN.         337\n",
       "KALYAN JN          284\n",
       "                  ... \n",
       "KENDUJHAR            1\n",
       "TORI                 1\n",
       "GARWA ROAD JN.       1\n",
       "WADSA                1\n",
       "LANJI GARH ROAD      1\n",
       "Name: count, Length: 924, dtype: int64"
      ]
     },
     "execution_count": 198,
     "metadata": {},
     "output_type": "execute_result"
    }
   ],
   "source": [
    "df['Destination_Station_Name'].value_counts()"
   ]
  },
  {
   "cell_type": "markdown",
   "id": "b2709e55-a0c4-42df-b273-4ef072b010b3",
   "metadata": {},
   "source": [
    "### Task 1.3 Data cleaning"
   ]
  },
  {
   "cell_type": "code",
   "execution_count": 200,
   "id": "fa0548e1-4f08-43be-820a-a042241a181e",
   "metadata": {},
   "outputs": [
    {
     "data": {
      "text/plain": [
       "Train_No                    0\n",
       "Train_Name                  0\n",
       "Source_Station_Name         0\n",
       "Destination_Station_Name    0\n",
       "days                        0\n",
       "dtype: int64"
      ]
     },
     "execution_count": 200,
     "metadata": {},
     "output_type": "execute_result"
    }
   ],
   "source": [
    "df.isnull().sum()"
   ]
  },
  {
   "cell_type": "code",
   "execution_count": 201,
   "id": "e19a27e1-7b3c-4ed9-833e-6a9e27f4951f",
   "metadata": {},
   "outputs": [
    {
     "data": {
      "text/plain": [
       "0"
      ]
     },
     "execution_count": 201,
     "metadata": {},
     "output_type": "execute_result"
    }
   ],
   "source": [
    "df.duplicated().sum()"
   ]
  },
  {
   "cell_type": "code",
   "execution_count": 202,
   "id": "a19dcd2a-3761-48b1-a737-7063d7999091",
   "metadata": {},
   "outputs": [],
   "source": [
    "# delete '.'' from last word in column 'Destination_Station_Name' \n",
    "\n",
    "df['Destination_Station_Name'] = df['Destination_Station_Name'].str.replace(r'[.-]', '', regex=True)\n",
    "df['Destination_Station_Name'] = df['Destination_Station_Name'].str.replace(r'[)(]', '', regex=True)"
   ]
  },
  {
   "cell_type": "code",
   "execution_count": 203,
   "id": "63f11aab-6e7c-45ad-ad4b-d988724c08cd",
   "metadata": {},
   "outputs": [],
   "source": [
    "# delete '-' or '.'  or ')('  from last word in column 'Source_Station_Name' \n",
    "\n",
    "df['Source_Station_Name'] = df['Source_Station_Name'].str.replace(r'[.-]', '', regex=True)\n",
    "df['Source_Station_Name'] = df['Source_Station_Name'].str.replace(r'[)()]', '', regex=True)"
   ]
  },
  {
   "cell_type": "code",
   "execution_count": 204,
   "id": "a45d1d04-161d-4c2e-9e2c-5b60183d0e61",
   "metadata": {},
   "outputs": [],
   "source": [
    "# delete '-' or '.'  or ')('  from last word in column 'Train_Name'\n",
    " \n",
    "df['Train_Name'] = df['Train_Name'].str.replace(r'[.-]', '', regex=True)\n",
    "df['Train_Name'] = df['Train_Name'].str.replace(r'[)()]', '', regex=True)"
   ]
  },
  {
   "cell_type": "code",
   "execution_count": 205,
   "id": "81527952-b4e7-449f-ad82-163a11eead40",
   "metadata": {},
   "outputs": [
    {
     "data": {
      "text/plain": [
       "array(['Saturday', 'Friday', 'Wednesday', 'Tuesday', 'Monday', 'Sunday',\n",
       "       'Thursday', 'Mondayd', 'Thursdayd', 'Tuesdayd', 'Fridayd',\n",
       "       'Wednesdayd', 'Saturdayd', 'Sundayd'], dtype=object)"
      ]
     },
     "execution_count": 205,
     "metadata": {},
     "output_type": "execute_result"
    }
   ],
   "source": [
    "df['days'].unique()"
   ]
  },
  {
   "cell_type": "code",
   "execution_count": 206,
   "id": "93f96157-d858-417a-8fe4-99557fc59a10",
   "metadata": {},
   "outputs": [],
   "source": [
    "words_to_remove = ['Mondayd', 'Thursdayd', 'Tuesdayd', 'Fridayd',\n",
    "       'Wednesdayd', 'Saturdayd', 'Sundayd']\n",
    "\n",
    "# Remove rows containing any of the specified words\n",
    "df = df[~df[\"days\"].str.contains('|'.join(words_to_remove), na=False)]\n"
   ]
  },
  {
   "cell_type": "code",
   "execution_count": 207,
   "id": "aacf8edf-5953-4425-8d03-0cda7fbcdf8e",
   "metadata": {},
   "outputs": [
    {
     "data": {
      "text/plain": [
       "array(['Saturday', 'Friday', 'Wednesday', 'Tuesday', 'Monday', 'Sunday',\n",
       "       'Thursday'], dtype=object)"
      ]
     },
     "execution_count": 207,
     "metadata": {},
     "output_type": "execute_result"
    }
   ],
   "source": [
    "df['days'].unique()"
   ]
  },
  {
   "cell_type": "code",
   "execution_count": 208,
   "id": "dcdef748-07ff-4ca4-be17-59ee9abd3123",
   "metadata": {},
   "outputs": [],
   "source": [
    "# load csv file \n"
   ]
  }
 ],
 "metadata": {
  "kernelspec": {
   "display_name": "Python 3 (ipykernel)",
   "language": "python",
   "name": "python3"
  },
  "language_info": {
   "codemirror_mode": {
    "name": "ipython",
    "version": 3
   },
   "file_extension": ".py",
   "mimetype": "text/x-python",
   "name": "python",
   "nbconvert_exporter": "python",
   "pygments_lexer": "ipython3",
   "version": "3.12.4"
  }
 },
 "nbformat": 4,
 "nbformat_minor": 5
}
